{
 "cells": [
  {
   "cell_type": "code",
   "execution_count": 1,
   "metadata": {},
   "outputs": [
    {
     "name": "stdout",
     "output_type": "stream",
     "text": [
      "\n",
      "Comparison of True vs Differentially Private Counts by Decade:\n",
      " Decade  TrueCount  PrivateCount\n",
      "   1900       1650          1660\n",
      "   1910       1691          1676\n",
      "   1920       1500          1494\n",
      "   1930       1572          1572\n",
      "   1940       1692          1672\n",
      "   1950       1625          1621\n",
      "   1960       1433          1433\n",
      "   1970       1565          1579\n",
      "   1980       1626          1608\n",
      "   1990       1633          1628\n",
      "   2000          2             6\n",
      "   2010          2            34\n"
     ]
    }
   ],
   "source": [
    "#DeepSeek\n",
    "import pandas as pd\n",
    "import numpy as np\n",
    "from diffprivlib.mechanisms import Laplace\n",
    "\n",
    "# Step 1: Load the dataset\n",
    "file_path = \"/Users/felipecastanogonzalez/Downloads/ChfSynthData-13_09_2024.csv\"\n",
    "df = pd.read_csv(file_path)\n",
    "\n",
    "# Step 2: Filter and clean the data\n",
    "# Drop duplicates\n",
    "df = df.drop_duplicates()\n",
    "\n",
    "# Remove rows with missing values in specified columns\n",
    "required_columns = [\"FirstName\", \"LastName\", \"DobDay\", \"DobMonth\", \"DobYear\"]\n",
    "df = df.dropna(subset=required_columns)\n",
    "\n",
    "# Convert DobYear to integer\n",
    "df[\"DobYear\"] = df[\"DobYear\"].astype(int)\n",
    "\n",
    "# Step 3: Keep only the required columns\n",
    "df = df[required_columns]\n",
    "\n",
    "# Step 4: Create Decade column\n",
    "df[\"Decade\"] = (df[\"DobYear\"] // 10) * 10\n",
    "\n",
    "# Step 5: Count records by decade\n",
    "true_counts = df[\"Decade\"].value_counts().sort_index().reset_index()\n",
    "true_counts.columns = [\"Decade\", \"TrueCount\"]\n",
    "\n",
    "# Step 6: Apply Laplace mechanism for differential privacy\n",
    "epsilon = 0.1\n",
    "sensitivity = 1\n",
    "laplace = Laplace(epsilon=epsilon, sensitivity=sensitivity)\n",
    "\n",
    "# Initialize list for private counts\n",
    "private_counts = []\n",
    "\n",
    "# Add noise to each count\n",
    "for count in true_counts[\"TrueCount\"]:\n",
    "    noisy_count = laplace.randomise(count)\n",
    "    private_counts.append(max(0, round(noisy_count)))  # Ensure non-negative counts\n",
    "\n",
    "# Step 7: Create comparison DataFrame\n",
    "result_df = true_counts.copy()\n",
    "result_df[\"PrivateCount\"] = private_counts\n",
    "\n",
    "# Step 8: Print the comparison table\n",
    "print(\"\\nComparison of True vs Differentially Private Counts by Decade:\")\n",
    "print(result_df.to_string(index=False))"
   ]
  },
  {
   "cell_type": "code",
   "execution_count": null,
   "metadata": {},
   "outputs": [],
   "source": []
  }
 ],
 "metadata": {
  "kernelspec": {
   "display_name": "Python 3",
   "language": "python",
   "name": "python3"
  },
  "language_info": {
   "codemirror_mode": {
    "name": "ipython",
    "version": 3
   },
   "file_extension": ".py",
   "mimetype": "text/x-python",
   "name": "python",
   "nbconvert_exporter": "python",
   "pygments_lexer": "ipython3",
   "version": "3.11.9"
  }
 },
 "nbformat": 4,
 "nbformat_minor": 2
}
