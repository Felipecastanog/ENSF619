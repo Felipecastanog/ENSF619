{
 "cells": [
  {
   "cell_type": "code",
   "execution_count": 1,
   "metadata": {},
   "outputs": [
    {
     "name": "stdout",
     "output_type": "stream",
     "text": [
      " Decade  True Count  DP Count (ε=0.1)\n",
      "   1900        1650              1649\n",
      "   1910        1691              1703\n",
      "   1920        1500              1506\n",
      "   1930        1572              1572\n",
      "   1940        1692              1709\n",
      "   1950        1625              1630\n",
      "   1960        1433              1413\n",
      "   1970        1565              1565\n",
      "   1980        1626              1634\n",
      "   1990        1633              1644\n",
      "   2000           2                 0\n",
      "   2010           2                 6\n"
     ]
    }
   ],
   "source": [
    "#ChatGPT\n",
    "# chf_differential_privacy.py\n",
    "\n",
    "# Step 0: Imports\n",
    "import pandas as pd\n",
    "import numpy as np\n",
    "from diffprivlib.mechanisms import Laplace\n",
    "\n",
    "# Step 1: Load dataset\n",
    "csv_path = \"/Users/felipecastanogonzalez/Downloads/ChfSynthData-13_09_2024.csv\"\n",
    "df = pd.read_csv(csv_path)\n",
    "\n",
    "# Step 2: Filter and clean data\n",
    "df = df.drop_duplicates()\n",
    "df = df.dropna(subset=[\"FirstName\", \"LastName\", \"DobDay\", \"DobMonth\", \"DobYear\"])\n",
    "df[\"DobYear\"] = df[\"DobYear\"].astype(int)\n",
    "\n",
    "# Step 3: Keep only required columns\n",
    "df = df[[\"FirstName\", \"LastName\", \"DobDay\", \"DobMonth\", \"DobYear\"]]\n",
    "\n",
    "# Step 4: Create 'Decade' column\n",
    "df[\"Decade\"] = (df[\"DobYear\"] // 10) * 10\n",
    "\n",
    "# Step 5: Count records per decade (true counts)\n",
    "true_counts = df[\"Decade\"].value_counts().sort_index()\n",
    "\n",
    "# Step 6: Apply Laplace mechanism for Differential Privacy\n",
    "epsilon = 0.1\n",
    "sensitivity = 1\n",
    "\n",
    "dp_counts = []\n",
    "for count in true_counts:\n",
    "    lap = Laplace(epsilon=epsilon, sensitivity=sensitivity)\n",
    "    lap.randomise(count)\n",
    "    noisy_count = max(0, int(round(lap.randomise(count))))\n",
    "    dp_counts.append(noisy_count)\n",
    "\n",
    "# Step 7: Create comparison DataFrame\n",
    "comparison_df = pd.DataFrame({\n",
    "    \"Decade\": true_counts.index,\n",
    "    \"True Count\": true_counts.values,\n",
    "    \"DP Count (ε=0.1)\": dp_counts\n",
    "})\n",
    "\n",
    "# Step 8: Print comparison table\n",
    "print(comparison_df.to_string(index=False))"
   ]
  }
 ],
 "metadata": {
  "kernelspec": {
   "display_name": "Python 3",
   "language": "python",
   "name": "python3"
  },
  "language_info": {
   "codemirror_mode": {
    "name": "ipython",
    "version": 3
   },
   "file_extension": ".py",
   "mimetype": "text/x-python",
   "name": "python",
   "nbconvert_exporter": "python",
   "pygments_lexer": "ipython3",
   "version": "3.11.9"
  }
 },
 "nbformat": 4,
 "nbformat_minor": 2
}
